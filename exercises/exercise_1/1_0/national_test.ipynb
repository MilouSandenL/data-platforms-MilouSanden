{
 "cells": [
  {
   "cell_type": "markdown",
   "metadata": {},
   "source": [
    "## Working with national test data"
   ]
  },
  {
   "cell_type": "code",
   "execution_count": 16,
   "metadata": {},
   "outputs": [
    {
     "name": "stdout",
     "output_type": "stream",
     "text": [
      "['Engelska', 'Matematik', 'Svenska', 'Svenska som andraspråk', 'Rapportbeskrivning och def.']\n"
     ]
    }
   ],
   "source": [
    "\n",
    "import pandas as pd\n",
    "import matplotlib.pyplot as plt\n",
    "\n",
    "file_path = 'data/riket2023_åk9_np.xlsx'\n",
    "\n",
    "xls = pd.ExcelFile(file_path)\n",
    "\n",
    "print(xls.sheet_names)\n",
    "\n",
    "df = pd.read_excel(xls, sheet_name='Matematik')\n",
    "\n",
    "df.columns = ['Plats', 'Huvudman', 'Totalt (A-F)', 'Flickor (A-F)', 'Pojkar (A-F)', \n",
    "              'Totalt (A-E)', 'Flickor (A-E)', 'Pojkar (A-E)', 'Totalt (poäng)', \n",
    "              'Flickor (poäng)', 'Pojkar (poäng)']\n"
   ]
  },
  {
   "cell_type": "code",
   "execution_count": 17,
   "metadata": {},
   "outputs": [
    {
     "name": "stdout",
     "output_type": "stream",
     "text": [
      "<class 'pandas.core.frame.DataFrame'>\n",
      "RangeIndex: 12 entries, 0 to 11\n",
      "Data columns (total 11 columns):\n",
      " #   Column           Non-Null Count  Dtype \n",
      "---  ------           --------------  ----- \n",
      " 0   Plats            8 non-null      object\n",
      " 1   Huvudman         5 non-null      object\n",
      " 2   Totalt (A-F)     6 non-null      object\n",
      " 3   Flickor (A-F)    5 non-null      object\n",
      " 4   Pojkar (A-F)     5 non-null      object\n",
      " 5   Totalt (A-E)     6 non-null      object\n",
      " 6   Flickor (A-E)    5 non-null      object\n",
      " 7   Pojkar (A-E)     5 non-null      object\n",
      " 8   Totalt (poäng)   6 non-null      object\n",
      " 9   Flickor (poäng)  5 non-null      object\n",
      " 10  Pojkar (poäng)   5 non-null      object\n",
      "dtypes: object(11)\n",
      "memory usage: 1.2+ KB\n"
     ]
    }
   ],
   "source": [
    "df.info()"
   ]
  },
  {
   "cell_type": "code",
   "execution_count": 18,
   "metadata": {},
   "outputs": [
    {
     "data": {
      "text/html": [
       "<div>\n",
       "<style scoped>\n",
       "    .dataframe tbody tr th:only-of-type {\n",
       "        vertical-align: middle;\n",
       "    }\n",
       "\n",
       "    .dataframe tbody tr th {\n",
       "        vertical-align: top;\n",
       "    }\n",
       "\n",
       "    .dataframe thead th {\n",
       "        text-align: right;\n",
       "    }\n",
       "</style>\n",
       "<table border=\"1\" class=\"dataframe\">\n",
       "  <thead>\n",
       "    <tr style=\"text-align: right;\">\n",
       "      <th></th>\n",
       "      <th>Plats</th>\n",
       "      <th>Huvudman</th>\n",
       "      <th>Totalt (A-F)</th>\n",
       "      <th>Flickor (A-F)</th>\n",
       "      <th>Pojkar (A-F)</th>\n",
       "      <th>Totalt (A-E)</th>\n",
       "      <th>Flickor (A-E)</th>\n",
       "      <th>Pojkar (A-E)</th>\n",
       "      <th>Totalt (poäng)</th>\n",
       "      <th>Flickor (poäng)</th>\n",
       "      <th>Pojkar (poäng)</th>\n",
       "    </tr>\n",
       "  </thead>\n",
       "  <tbody>\n",
       "    <tr>\n",
       "      <th>0</th>\n",
       "      <td>NaN</td>\n",
       "      <td>NaN</td>\n",
       "      <td>NaN</td>\n",
       "      <td>NaN</td>\n",
       "      <td>NaN</td>\n",
       "      <td>NaN</td>\n",
       "      <td>NaN</td>\n",
       "      <td>NaN</td>\n",
       "      <td>NaN</td>\n",
       "      <td>NaN</td>\n",
       "      <td>NaN</td>\n",
       "    </tr>\n",
       "    <tr>\n",
       "      <th>1</th>\n",
       "      <td>Grundskolan - Resultat nationella prov årskurs...</td>\n",
       "      <td>NaN</td>\n",
       "      <td>NaN</td>\n",
       "      <td>NaN</td>\n",
       "      <td>NaN</td>\n",
       "      <td>NaN</td>\n",
       "      <td>NaN</td>\n",
       "      <td>NaN</td>\n",
       "      <td>NaN</td>\n",
       "      <td>NaN</td>\n",
       "      <td>NaN</td>\n",
       "    </tr>\n",
       "    <tr>\n",
       "      <th>2</th>\n",
       "      <td>Matematik</td>\n",
       "      <td>NaN</td>\n",
       "      <td>NaN</td>\n",
       "      <td>NaN</td>\n",
       "      <td>NaN</td>\n",
       "      <td>NaN</td>\n",
       "      <td>NaN</td>\n",
       "      <td>NaN</td>\n",
       "      <td>NaN</td>\n",
       "      <td>NaN</td>\n",
       "      <td>NaN</td>\n",
       "    </tr>\n",
       "    <tr>\n",
       "      <th>3</th>\n",
       "      <td>Valt läsår: 2022/23</td>\n",
       "      <td>NaN</td>\n",
       "      <td>NaN</td>\n",
       "      <td>NaN</td>\n",
       "      <td>NaN</td>\n",
       "      <td>NaN</td>\n",
       "      <td>NaN</td>\n",
       "      <td>NaN</td>\n",
       "      <td>NaN</td>\n",
       "      <td>NaN</td>\n",
       "      <td>NaN</td>\n",
       "    </tr>\n",
       "    <tr>\n",
       "      <th>4</th>\n",
       "      <td>NaN</td>\n",
       "      <td>NaN</td>\n",
       "      <td>NaN</td>\n",
       "      <td>NaN</td>\n",
       "      <td>NaN</td>\n",
       "      <td>NaN</td>\n",
       "      <td>NaN</td>\n",
       "      <td>NaN</td>\n",
       "      <td>NaN</td>\n",
       "      <td>NaN</td>\n",
       "      <td>NaN</td>\n",
       "    </tr>\n",
       "  </tbody>\n",
       "</table>\n",
       "</div>"
      ],
      "text/plain": [
       "                                               Plats Huvudman Totalt (A-F)  \\\n",
       "0                                                NaN      NaN          NaN   \n",
       "1  Grundskolan - Resultat nationella prov årskurs...      NaN          NaN   \n",
       "2                                          Matematik      NaN          NaN   \n",
       "3                                Valt läsår: 2022/23      NaN          NaN   \n",
       "4                                                NaN      NaN          NaN   \n",
       "\n",
       "  Flickor (A-F) Pojkar (A-F) Totalt (A-E) Flickor (A-E) Pojkar (A-E)  \\\n",
       "0           NaN          NaN          NaN           NaN          NaN   \n",
       "1           NaN          NaN          NaN           NaN          NaN   \n",
       "2           NaN          NaN          NaN           NaN          NaN   \n",
       "3           NaN          NaN          NaN           NaN          NaN   \n",
       "4           NaN          NaN          NaN           NaN          NaN   \n",
       "\n",
       "  Totalt (poäng) Flickor (poäng) Pojkar (poäng)  \n",
       "0            NaN             NaN            NaN  \n",
       "1            NaN             NaN            NaN  \n",
       "2            NaN             NaN            NaN  \n",
       "3            NaN             NaN            NaN  \n",
       "4            NaN             NaN            NaN  "
      ]
     },
     "execution_count": 18,
     "metadata": {},
     "output_type": "execute_result"
    }
   ],
   "source": [
    "df.head()"
   ]
  },
  {
   "cell_type": "code",
   "execution_count": 19,
   "metadata": {},
   "outputs": [
    {
     "data": {
      "text/html": [
       "<div>\n",
       "<style scoped>\n",
       "    .dataframe tbody tr th:only-of-type {\n",
       "        vertical-align: middle;\n",
       "    }\n",
       "\n",
       "    .dataframe tbody tr th {\n",
       "        vertical-align: top;\n",
       "    }\n",
       "\n",
       "    .dataframe thead th {\n",
       "        text-align: right;\n",
       "    }\n",
       "</style>\n",
       "<table border=\"1\" class=\"dataframe\">\n",
       "  <thead>\n",
       "    <tr style=\"text-align: right;\">\n",
       "      <th></th>\n",
       "      <th>Plats</th>\n",
       "      <th>Huvudman</th>\n",
       "      <th>Totalt (A-F)</th>\n",
       "      <th>Flickor (A-F)</th>\n",
       "      <th>Pojkar (A-F)</th>\n",
       "      <th>Totalt (A-E)</th>\n",
       "      <th>Flickor (A-E)</th>\n",
       "      <th>Pojkar (A-E)</th>\n",
       "      <th>Totalt (poäng)</th>\n",
       "      <th>Flickor (poäng)</th>\n",
       "      <th>Pojkar (poäng)</th>\n",
       "    </tr>\n",
       "  </thead>\n",
       "  <tbody>\n",
       "    <tr>\n",
       "      <th>count</th>\n",
       "      <td>8</td>\n",
       "      <td>5</td>\n",
       "      <td>6</td>\n",
       "      <td>5</td>\n",
       "      <td>5</td>\n",
       "      <td>6</td>\n",
       "      <td>5</td>\n",
       "      <td>5</td>\n",
       "      <td>6</td>\n",
       "      <td>5</td>\n",
       "      <td>5</td>\n",
       "    </tr>\n",
       "    <tr>\n",
       "      <th>unique</th>\n",
       "      <td>4</td>\n",
       "      <td>5</td>\n",
       "      <td>6</td>\n",
       "      <td>5</td>\n",
       "      <td>5</td>\n",
       "      <td>6</td>\n",
       "      <td>5</td>\n",
       "      <td>5</td>\n",
       "      <td>6</td>\n",
       "      <td>5</td>\n",
       "      <td>5</td>\n",
       "    </tr>\n",
       "    <tr>\n",
       "      <th>top</th>\n",
       "      <td>Riket</td>\n",
       "      <td>Typ av huvudman</td>\n",
       "      <td>Antal elever med provbetyg A-F</td>\n",
       "      <td>Flickor</td>\n",
       "      <td>Pojkar</td>\n",
       "      <td>Andel (%) med provbetyg A-E</td>\n",
       "      <td>Flickor</td>\n",
       "      <td>Pojkar</td>\n",
       "      <td>Genomsnittlig betygspoäng</td>\n",
       "      <td>Flickor</td>\n",
       "      <td>Pojkar</td>\n",
       "    </tr>\n",
       "    <tr>\n",
       "      <th>freq</th>\n",
       "      <td>5</td>\n",
       "      <td>1</td>\n",
       "      <td>1</td>\n",
       "      <td>1</td>\n",
       "      <td>1</td>\n",
       "      <td>1</td>\n",
       "      <td>1</td>\n",
       "      <td>1</td>\n",
       "      <td>1</td>\n",
       "      <td>1</td>\n",
       "      <td>1</td>\n",
       "    </tr>\n",
       "  </tbody>\n",
       "</table>\n",
       "</div>"
      ],
      "text/plain": [
       "        Plats         Huvudman                    Totalt (A-F) Flickor (A-F)  \\\n",
       "count       8                5                               6             5   \n",
       "unique      4                5                               6             5   \n",
       "top     Riket  Typ av huvudman  Antal elever med provbetyg A-F       Flickor   \n",
       "freq        5                1                               1             1   \n",
       "\n",
       "       Pojkar (A-F)                 Totalt (A-E) Flickor (A-E) Pojkar (A-E)  \\\n",
       "count             5                            6             5            5   \n",
       "unique            5                            6             5            5   \n",
       "top          Pojkar  Andel (%) med provbetyg A-E      Flickor       Pojkar    \n",
       "freq              1                            1             1            1   \n",
       "\n",
       "                   Totalt (poäng) Flickor (poäng) Pojkar (poäng)  \n",
       "count                           6               5              5  \n",
       "unique                          6               5              5  \n",
       "top     Genomsnittlig betygspoäng       Flickor         Pojkar    \n",
       "freq                            1               1              1  "
      ]
     },
     "execution_count": 19,
     "metadata": {},
     "output_type": "execute_result"
    }
   ],
   "source": [
    "df.describe()"
   ]
  },
  {
   "cell_type": "code",
   "execution_count": 20,
   "metadata": {},
   "outputs": [
    {
     "data": {
      "text/plain": [
       "Huvudman\n",
       "Typ av huvudman    1\n",
       "Samtliga           1\n",
       "Kommunal           1\n",
       "Enskild            1\n",
       "Skolverket         1\n",
       "Name: count, dtype: int64"
      ]
     },
     "execution_count": 20,
     "metadata": {},
     "output_type": "execute_result"
    }
   ],
   "source": [
    "df['Huvudman'].value_counts()"
   ]
  },
  {
   "cell_type": "code",
   "execution_count": 21,
   "metadata": {},
   "outputs": [
    {
     "name": "stdout",
     "output_type": "stream",
     "text": [
      "Antal flickor som fick F i matematik: 0\n",
      "Antal pojkar som fick F i matematik: 0\n"
     ]
    }
   ],
   "source": [
    "fstudents_girls = df[df['Flickor (A-F)'] == 0].shape[0]\n",
    "fstudents_boys = df[df['Pojkar (A-F)'] == 0].shape[0]\n",
    "\n",
    "print(f\"Antal flickor som fick F i matematik: {fstudents_girls}\")\n",
    "print(f\"Antal pojkar som fick F i matematik: {fstudents_boys}\")"
   ]
  },
  {
   "cell_type": "code",
   "execution_count": 5,
   "metadata": {},
   "outputs": [
    {
     "data": {
      "text/html": [
       "<div>\n",
       "<style scoped>\n",
       "    .dataframe tbody tr th:only-of-type {\n",
       "        vertical-align: middle;\n",
       "    }\n",
       "\n",
       "    .dataframe tbody tr th {\n",
       "        vertical-align: top;\n",
       "    }\n",
       "\n",
       "    .dataframe thead th {\n",
       "        text-align: right;\n",
       "    }\n",
       "</style>\n",
       "<table border=\"1\" class=\"dataframe\">\n",
       "  <thead>\n",
       "    <tr style=\"text-align: right;\">\n",
       "      <th></th>\n",
       "      <th>Unnamed: 0</th>\n",
       "      <th>Unnamed: 1</th>\n",
       "      <th>Unnamed: 2</th>\n",
       "      <th>Unnamed: 3</th>\n",
       "      <th>Unnamed: 4</th>\n",
       "      <th>Unnamed: 5</th>\n",
       "      <th>Unnamed: 6</th>\n",
       "      <th>Unnamed: 7</th>\n",
       "      <th>Unnamed: 8</th>\n",
       "      <th>Unnamed: 9</th>\n",
       "      <th>Unnamed: 10</th>\n",
       "    </tr>\n",
       "  </thead>\n",
       "  <tbody>\n",
       "    <tr>\n",
       "      <th>0</th>\n",
       "      <td>NaN</td>\n",
       "      <td>NaN</td>\n",
       "      <td>NaN</td>\n",
       "      <td>NaN</td>\n",
       "      <td>NaN</td>\n",
       "      <td>NaN</td>\n",
       "      <td>NaN</td>\n",
       "      <td>NaN</td>\n",
       "      <td>NaN</td>\n",
       "      <td>NaN</td>\n",
       "      <td>NaN</td>\n",
       "    </tr>\n",
       "    <tr>\n",
       "      <th>1</th>\n",
       "      <td>Grundskolan - Resultat nationella prov årskurs...</td>\n",
       "      <td>NaN</td>\n",
       "      <td>NaN</td>\n",
       "      <td>NaN</td>\n",
       "      <td>NaN</td>\n",
       "      <td>NaN</td>\n",
       "      <td>NaN</td>\n",
       "      <td>NaN</td>\n",
       "      <td>NaN</td>\n",
       "      <td>NaN</td>\n",
       "      <td>NaN</td>\n",
       "    </tr>\n",
       "    <tr>\n",
       "      <th>2</th>\n",
       "      <td>Matematik</td>\n",
       "      <td>NaN</td>\n",
       "      <td>NaN</td>\n",
       "      <td>NaN</td>\n",
       "      <td>NaN</td>\n",
       "      <td>NaN</td>\n",
       "      <td>NaN</td>\n",
       "      <td>NaN</td>\n",
       "      <td>NaN</td>\n",
       "      <td>NaN</td>\n",
       "      <td>NaN</td>\n",
       "    </tr>\n",
       "    <tr>\n",
       "      <th>3</th>\n",
       "      <td>Valt läsår: 2022/23</td>\n",
       "      <td>NaN</td>\n",
       "      <td>NaN</td>\n",
       "      <td>NaN</td>\n",
       "      <td>NaN</td>\n",
       "      <td>NaN</td>\n",
       "      <td>NaN</td>\n",
       "      <td>NaN</td>\n",
       "      <td>NaN</td>\n",
       "      <td>NaN</td>\n",
       "      <td>NaN</td>\n",
       "    </tr>\n",
       "    <tr>\n",
       "      <th>4</th>\n",
       "      <td>NaN</td>\n",
       "      <td>NaN</td>\n",
       "      <td>NaN</td>\n",
       "      <td>NaN</td>\n",
       "      <td>NaN</td>\n",
       "      <td>NaN</td>\n",
       "      <td>NaN</td>\n",
       "      <td>NaN</td>\n",
       "      <td>NaN</td>\n",
       "      <td>NaN</td>\n",
       "      <td>NaN</td>\n",
       "    </tr>\n",
       "  </tbody>\n",
       "</table>\n",
       "</div>"
      ],
      "text/plain": [
       "                                          Unnamed: 0 Unnamed: 1 Unnamed: 2  \\\n",
       "0                                                NaN        NaN        NaN   \n",
       "1  Grundskolan - Resultat nationella prov årskurs...        NaN        NaN   \n",
       "2                                          Matematik        NaN        NaN   \n",
       "3                                Valt läsår: 2022/23        NaN        NaN   \n",
       "4                                                NaN        NaN        NaN   \n",
       "\n",
       "  Unnamed: 3 Unnamed: 4 Unnamed: 5 Unnamed: 6 Unnamed: 7 Unnamed: 8  \\\n",
       "0        NaN        NaN        NaN        NaN        NaN        NaN   \n",
       "1        NaN        NaN        NaN        NaN        NaN        NaN   \n",
       "2        NaN        NaN        NaN        NaN        NaN        NaN   \n",
       "3        NaN        NaN        NaN        NaN        NaN        NaN   \n",
       "4        NaN        NaN        NaN        NaN        NaN        NaN   \n",
       "\n",
       "  Unnamed: 9 Unnamed: 10  \n",
       "0        NaN         NaN  \n",
       "1        NaN         NaN  \n",
       "2        NaN         NaN  \n",
       "3        NaN         NaN  \n",
       "4        NaN         NaN  "
      ]
     },
     "execution_count": 5,
     "metadata": {},
     "output_type": "execute_result"
    }
   ],
   "source": [
    "import pandas as pd\n",
    "import matplotlib.pyplot as plt\n",
    "\n",
    "file_path = 'data/riket2023_åk9_np.xlsx'\n",
    "\n",
    "subjects = ['Engelska', 'Matematik', 'Svenska', 'Svenska som andraspråk', 'Rapportbeskrivning och def.']\n",
    "data = {subject: pd.read_excel(file_path, sheet_name=subject) for subject in subjects}\n",
    "\n",
    "data['Matematik'].head()"
   ]
  },
  {
   "cell_type": "code",
   "execution_count": 12,
   "metadata": {},
   "outputs": [],
   "source": [
    "data['Matematik'].rename(columns={'Unnamed: 0': 'Plats', 'Unnamed: 1' : 'Huvudman', 'Unnamed: 2' : 'Totalt (A-F)', 'Unnamed: 3' : 'Flickor (A-F)', 'Unnamed: 4' : 'Pojkar (A-F)', 'Unnamed: 5' : 'Totalt (A-E)', 'Unnamed: 6' : 'Flickor (A-E)', 'Unnamed: 7' : 'Pojkar (A-E)', 'Unnamed: 8' : 'Totalt (poäng)', 'Unnamed: 9' : 'Flickor (poäng)', 'Unnamed: 10' : 'Pojkar (poäng)'}, inplace=True)"
   ]
  },
  {
   "cell_type": "code",
   "execution_count": 13,
   "metadata": {},
   "outputs": [
    {
     "name": "stdout",
     "output_type": "stream",
     "text": [
      "<class 'pandas.core.frame.DataFrame'>\n",
      "RangeIndex: 12 entries, 0 to 11\n",
      "Data columns (total 11 columns):\n",
      " #   Column           Non-Null Count  Dtype \n",
      "---  ------           --------------  ----- \n",
      " 0   Plats            8 non-null      object\n",
      " 1   Huvudman         5 non-null      object\n",
      " 2   Totalt (A-F)     6 non-null      object\n",
      " 3   Flickor (A-F)    5 non-null      object\n",
      " 4   Pojkar (A-F)     5 non-null      object\n",
      " 5   Totalt (A-E)     6 non-null      object\n",
      " 6   Flickor (A-E)    5 non-null      object\n",
      " 7   Pojkar (A-E)     5 non-null      object\n",
      " 8   Totalt (poäng)   6 non-null      object\n",
      " 9   Flickor (poäng)  5 non-null      object\n",
      " 10  Pojkar (poäng)   5 non-null      object\n",
      "dtypes: object(11)\n",
      "memory usage: 1.2+ KB\n"
     ]
    }
   ],
   "source": [
    "data['Matematik'].info()"
   ]
  },
  {
   "cell_type": "code",
   "execution_count": 14,
   "metadata": {},
   "outputs": [
    {
     "data": {
      "text/html": [
       "<div>\n",
       "<style scoped>\n",
       "    .dataframe tbody tr th:only-of-type {\n",
       "        vertical-align: middle;\n",
       "    }\n",
       "\n",
       "    .dataframe tbody tr th {\n",
       "        vertical-align: top;\n",
       "    }\n",
       "\n",
       "    .dataframe thead th {\n",
       "        text-align: right;\n",
       "    }\n",
       "</style>\n",
       "<table border=\"1\" class=\"dataframe\">\n",
       "  <thead>\n",
       "    <tr style=\"text-align: right;\">\n",
       "      <th></th>\n",
       "      <th>Plats</th>\n",
       "      <th>Huvudman</th>\n",
       "      <th>Totalt (A-F)</th>\n",
       "      <th>Flickor (A-F)</th>\n",
       "      <th>Pojkar (A-F)</th>\n",
       "      <th>Totalt (A-E)</th>\n",
       "      <th>Flickor (A-E)</th>\n",
       "      <th>Pojkar (A-E)</th>\n",
       "      <th>Totalt (poäng)</th>\n",
       "      <th>Flickor (poäng)</th>\n",
       "      <th>Pojkar (poäng)</th>\n",
       "    </tr>\n",
       "  </thead>\n",
       "  <tbody>\n",
       "    <tr>\n",
       "      <th>count</th>\n",
       "      <td>8</td>\n",
       "      <td>5</td>\n",
       "      <td>6</td>\n",
       "      <td>5</td>\n",
       "      <td>5</td>\n",
       "      <td>6</td>\n",
       "      <td>5</td>\n",
       "      <td>5</td>\n",
       "      <td>6</td>\n",
       "      <td>5</td>\n",
       "      <td>5</td>\n",
       "    </tr>\n",
       "    <tr>\n",
       "      <th>unique</th>\n",
       "      <td>4</td>\n",
       "      <td>5</td>\n",
       "      <td>6</td>\n",
       "      <td>5</td>\n",
       "      <td>5</td>\n",
       "      <td>6</td>\n",
       "      <td>5</td>\n",
       "      <td>5</td>\n",
       "      <td>6</td>\n",
       "      <td>5</td>\n",
       "      <td>5</td>\n",
       "    </tr>\n",
       "    <tr>\n",
       "      <th>top</th>\n",
       "      <td>Riket</td>\n",
       "      <td>Typ av huvudman</td>\n",
       "      <td>Antal elever med provbetyg A-F</td>\n",
       "      <td>Flickor</td>\n",
       "      <td>Pojkar</td>\n",
       "      <td>Andel (%) med provbetyg A-E</td>\n",
       "      <td>Flickor</td>\n",
       "      <td>Pojkar</td>\n",
       "      <td>Genomsnittlig betygspoäng</td>\n",
       "      <td>Flickor</td>\n",
       "      <td>Pojkar</td>\n",
       "    </tr>\n",
       "    <tr>\n",
       "      <th>freq</th>\n",
       "      <td>5</td>\n",
       "      <td>1</td>\n",
       "      <td>1</td>\n",
       "      <td>1</td>\n",
       "      <td>1</td>\n",
       "      <td>1</td>\n",
       "      <td>1</td>\n",
       "      <td>1</td>\n",
       "      <td>1</td>\n",
       "      <td>1</td>\n",
       "      <td>1</td>\n",
       "    </tr>\n",
       "  </tbody>\n",
       "</table>\n",
       "</div>"
      ],
      "text/plain": [
       "        Plats         Huvudman                    Totalt (A-F) Flickor (A-F)  \\\n",
       "count       8                5                               6             5   \n",
       "unique      4                5                               6             5   \n",
       "top     Riket  Typ av huvudman  Antal elever med provbetyg A-F       Flickor   \n",
       "freq        5                1                               1             1   \n",
       "\n",
       "       Pojkar (A-F)                 Totalt (A-E) Flickor (A-E) Pojkar (A-E)  \\\n",
       "count             5                            6             5            5   \n",
       "unique            5                            6             5            5   \n",
       "top          Pojkar  Andel (%) med provbetyg A-E      Flickor       Pojkar    \n",
       "freq              1                            1             1            1   \n",
       "\n",
       "                   Totalt (poäng) Flickor (poäng) Pojkar (poäng)  \n",
       "count                           6               5              5  \n",
       "unique                          6               5              5  \n",
       "top     Genomsnittlig betygspoäng       Flickor         Pojkar    \n",
       "freq                            1               1              1  "
      ]
     },
     "execution_count": 14,
     "metadata": {},
     "output_type": "execute_result"
    }
   ],
   "source": [
    "data['Matematik'].describe()"
   ]
  },
  {
   "cell_type": "code",
   "execution_count": 15,
   "metadata": {},
   "outputs": [
    {
     "data": {
      "text/plain": [
       "Huvudman\n",
       "Typ av huvudman    1\n",
       "Samtliga           1\n",
       "Kommunal           1\n",
       "Enskild            1\n",
       "Skolverket         1\n",
       "Name: count, dtype: int64"
      ]
     },
     "execution_count": 15,
     "metadata": {},
     "output_type": "execute_result"
    }
   ],
   "source": [
    "data['Matematik']['Huvudman'].value_counts()"
   ]
  },
  {
   "cell_type": "code",
   "execution_count": 16,
   "metadata": {},
   "outputs": [
    {
     "name": "stdout",
     "output_type": "stream",
     "text": [
      "Flickor som fick F i matematik: 0\n",
      "Pojkar som fick F i matematik: 0\n"
     ]
    }
   ],
   "source": [
    "math_df = data['Matematik']\n",
    "students_f = math_df[math_df['Totalt (A-F)'] == 'F']\n",
    "flickor_f = students_f['Flickor (A-F)']. sum()\n",
    "pojkar_f = students_f['Pojkar (A-F)'].sum()\n",
    "\n",
    "print(f\"Flickor som fick F i matematik: {flickor_f}\")\n",
    "print(f\"Pojkar som fick F i matematik: {pojkar_f}\")"
   ]
  },
  {
   "cell_type": "code",
   "execution_count": 19,
   "metadata": {},
   "outputs": [
    {
     "name": "stdout",
     "output_type": "stream",
     "text": [
      "Kolumnnamn i Engelska:\n",
      "Index(['Unnamed: 0', 'Unnamed: 1', 'Unnamed: 2', 'Unnamed: 3', 'Unnamed: 4',\n",
      "       'Unnamed: 5', 'Unnamed: 6', 'Unnamed: 7', 'Unnamed: 8', 'Unnamed: 9',\n",
      "       'Unnamed: 10'],\n",
      "      dtype='object')\n",
      "Kolumnnamn i Matematik:\n",
      "Index(['Plats', 'Huvudman', 'Totalt (A-F)', 'Flickor (A-F)', 'Pojkar (A-F)',\n",
      "       'Totalt (A-E)', 'Flickor (A-E)', 'Pojkar (A-E)', 'Totalt (poäng)',\n",
      "       'Flickor (poäng)', 'Pojkar (poäng)'],\n",
      "      dtype='object')\n",
      "Kolumnnamn i Svenska:\n",
      "Index(['Unnamed: 0', 'Unnamed: 1', 'Unnamed: 2', 'Unnamed: 3', 'Unnamed: 4',\n",
      "       'Unnamed: 5', 'Unnamed: 6', 'Unnamed: 7', 'Unnamed: 8', 'Unnamed: 9',\n",
      "       'Unnamed: 10'],\n",
      "      dtype='object')\n",
      "Kolumnnamn i Svenska som andraspråk:\n",
      "Index(['Unnamed: 0', 'Unnamed: 1', 'Unnamed: 2', 'Unnamed: 3', 'Unnamed: 4',\n",
      "       'Unnamed: 5', 'Unnamed: 6', 'Unnamed: 7', 'Unnamed: 8', 'Unnamed: 9',\n",
      "       'Unnamed: 10'],\n",
      "      dtype='object')\n",
      "Kolumnnamn i Rapportbeskrivning och def.:\n",
      "Index(['Unnamed: 0', 'Unnamed: 1', 'Unnamed: 2', 'Unnamed: 3'], dtype='object')\n"
     ]
    }
   ],
   "source": [
    "for subject, df in data.items():\n",
    "    print(f\"Kolumnnamn i {subject}:\")\n",
    "    print(df.columns)"
   ]
  },
  {
   "cell_type": "code",
   "execution_count": 24,
   "metadata": {},
   "outputs": [
    {
     "data": {
      "text/plain": [
       "Index(['Plats', 'Huvudman', 'Totalt (A-F)', 'Flickor (A-F)', 'Pojkar (A-F)',\n",
       "       'Totalt (A-E)', 'Flickor (A-E)', 'Pojkar (A-E)', 'Totalt (poäng)',\n",
       "       'Flickor (poäng)', 'Pojkar (poäng)'],\n",
       "      dtype='object')"
      ]
     },
     "execution_count": 24,
     "metadata": {},
     "output_type": "execute_result"
    }
   ],
   "source": [
    "math_df.columns"
   ]
  },
  {
   "cell_type": "code",
   "execution_count": 26,
   "metadata": {},
   "outputs": [
    {
     "data": {
      "image/png": "[encoded data removed]",
      "text/plain": [
       "<Figure size 640x480 with 1 Axes>"
      ]
     },
     "metadata": {},
     "output_type": "display_data"
    }
   ],
   "source": [
    "math_df['Totalt (poäng)'] = pd.to_numeric(math_df['Totalt (poäng)'], errors='coerce')\n",
    "\n",
    "total_points = math_df['Totalt (poäng)'].sum()\n",
    "\n",
    "plt.bar(['Matematik'], [total_points])\n",
    "plt.xlabel('Ämne')\n",
    "plt.ylabel('Totalpoäng')\n",
    "plt.title('Totalpoäng för Matematik')\n",
    "plt.show()"
   ]
  },
  {
   "cell_type": "code",
   "execution_count": 27,
   "metadata": {},
   "outputs": [
    {
     "data": {
      "image/png": "[encoded data removed]",
      "text/plain": [
       "<Figure size 640x480 with 1 Axes>"
      ]
     },
     "metadata": {},
     "output_type": "display_data"
    }
   ],
   "source": [
    "math_df['Flickor (poäng)'] = pd.to_numeric(math_df['Flickor (poäng)'], errors='coerce')\n",
    "math_df['Pojkar (poäng)'] = pd.to_numeric(math_df['Pojkar (poäng)'], errors='coerce')\n",
    "\n",
    "total_points_flickor = math_df['Flickor (poäng)'].sum()\n",
    "total_points_pojkar = math_df['Pojkar (poäng)'].sum()\n",
    "\n",
    "plt.bar(['Flickor', 'Pojkar'], [total_points_flickor, total_points_pojkar])\n",
    "plt.xlabel('Kön')\n",
    "plt.ylabel('Totalpoäng')\n",
    "plt.title('Totalpoäng för Matematik uppdelat på kön')\n",
    "plt.show()"
   ]
  },
  {
   "cell_type": "code",
   "execution_count": 30,
   "metadata": {},
   "outputs": [
    {
     "name": "stdout",
     "output_type": "stream",
     "text": [
      "<class 'pandas.core.frame.DataFrame'>\n",
      "RangeIndex: 12 entries, 0 to 11\n",
      "Data columns (total 11 columns):\n",
      " #   Column       Non-Null Count  Dtype \n",
      "---  ------       --------------  ----- \n",
      " 0   Unnamed: 0   8 non-null      object\n",
      " 1   Unnamed: 1   5 non-null      object\n",
      " 2   Unnamed: 2   6 non-null      object\n",
      " 3   Unnamed: 3   5 non-null      object\n",
      " 4   Unnamed: 4   5 non-null      object\n",
      " 5   Unnamed: 5   6 non-null      object\n",
      " 6   Unnamed: 6   5 non-null      object\n",
      " 7   Unnamed: 7   5 non-null      object\n",
      " 8   Unnamed: 8   6 non-null      object\n",
      " 9   Unnamed: 9   5 non-null      object\n",
      " 10  Unnamed: 10  5 non-null      object\n",
      "dtypes: object(11)\n",
      "memory usage: 1.2+ KB\n"
     ]
    }
   ],
   "source": [
    "data['Engelska'].info()"
   ]
  }
 ],
 "metadata": {
  "kernelspec": {
   "display_name": ".venv",
   "language": "python",
   "name": "python3"
  },
  "language_info": {
   "codemirror_mode": {
    "name": "ipython",
    "version": 3
   },
   "file_extension": ".py",
   "mimetype": "text/x-python",
   "name": "python",
   "nbconvert_exporter": "python",
   "pygments_lexer": "ipython3",
   "version": "3.12.5"
  }
 },
 "nbformat": 4,
 "nbformat_minor": 2
}
