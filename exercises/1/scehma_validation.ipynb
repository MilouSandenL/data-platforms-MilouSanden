{
 "cells": [
  {
   "cell_type": "markdown",
   "metadata": {},
   "source": [
    "## 1. Schema validation\n",
    "- create a dictionary\n",
    "- story each dictionary in a list\n",
    "- do Json array on list\n",
    "- make funtion for schema"
   ]
  },
  {
   "cell_type": "code",
   "execution_count": 2,
   "metadata": {},
   "outputs": [],
   "source": [
    "# Skapar en ordlista som representerar en enskild post\n",
    "person = {\n",
    "    \"id\": 101,\n",
    "    \"name\": \"Erika\",\n",
    "    \"is_active\": True,\n",
    "    \"age\": 45,\n",
    "}"
   ]
  },
  {
   "cell_type": "code",
   "execution_count": 3,
   "metadata": {},
   "outputs": [
    {
     "name": "stdout",
     "output_type": "stream",
     "text": [
      "True\n"
     ]
    }
   ],
   "source": [
    "def validate_schema(person):\n",
    "    if type(person.get(\"id\")) != int:\n",
    "        return False\n",
    "    if type(person.get(\"name\")) != str:\n",
    "        return False\n",
    "    if type(person.get(\"is_active\")) != bool:\n",
    "        return False\n",
    "    if type(person.get(\"age\")) not in [int, float]:\n",
    "        return False\n",
    "    return True\n",
    "\n",
    "print(validate_schema(person))"
   ]
  },
  {
   "cell_type": "code",
   "execution_count": 4,
   "metadata": {},
   "outputs": [],
   "source": [
    "persons = [\n",
    "    {\"id\": 102, \"name\": \"Marcus\", \"is_active\": True, \"age\": 34},\n",
    "    {\"id\": 103, \"name\": \"David\", \"is_active\": False, \"age\": 29},\n",
    "    {\"id\": 104, \"name\": \"Anna\", \"is_active\": True, \"age\": 41.5},\n",
    "    {\"id\": 106, \"name\": \"Ingrid\", \"is_active\": \"NOPE\", \"age\": 8}\n",
    "]"
   ]
  },
  {
   "cell_type": "code",
   "execution_count": 5,
   "metadata": {},
   "outputs": [],
   "source": [
    "def validate_persons(persons):\n",
    "    results = []\n",
    "    for person in persons:\n",
    "        is_valid = validate_schema(person)\n",
    "        results.append((person, is_valid))\n",
    "    return persons"
   ]
  },
  {
   "cell_type": "code",
   "execution_count": 6,
   "metadata": {},
   "outputs": [
    {
     "name": "stdout",
     "output_type": "stream",
     "text": [
      "[True, True, True, False]\n"
     ]
    }
   ],
   "source": [
    "def validate_schema_list(persons):\n",
    "    return[validate_schema(person) for person in persons]\n",
    "\n",
    "print(validate_schema_list(persons))"
   ]
  },
  {
   "cell_type": "code",
   "execution_count": 7,
   "metadata": {},
   "outputs": [],
   "source": [
    "new_persons = [\n",
    "    {\"id\": 200, \"name\": \"Liam\", \"is_active\": True, \"age\": 25},\n",
    "    {\"id\": 201, \"name\": \"Sophie\", \"is_active\": \"yes\", \"age\": \"thirty\"}\n",
    "]"
   ]
  },
  {
   "cell_type": "code",
   "execution_count": 8,
   "metadata": {},
   "outputs": [
    {
     "name": "stdout",
     "output_type": "stream",
     "text": [
      "[True, False]\n"
     ]
    }
   ],
   "source": [
    "print(validate_schema_list(new_persons))"
   ]
  },
  {
   "cell_type": "code",
   "execution_count": 9,
   "metadata": {},
   "outputs": [
    {
     "name": "stdout",
     "output_type": "stream",
     "text": [
      "[{'id': 102, 'name': 'Marcus', 'is_active': True, 'age': 34}, {'id': 103, 'name': 'David', 'is_active': False, 'age': 29}, {'id': 104, 'name': 'Anna', 'is_active': True, 'age': 41.5}, {'id': 106, 'name': 'Ingrid', 'is_active': 'NOPE', 'age': 8}]\n"
     ]
    }
   ],
   "source": [
    "print(f\"{persons}\")"
   ]
  }
 ],
 "metadata": {
  "kernelspec": {
   "display_name": ".venv",
   "language": "python",
   "name": "python3"
  },
  "language_info": {
   "codemirror_mode": {
    "name": "ipython",
    "version": 3
   },
   "file_extension": ".py",
   "mimetype": "text/x-python",
   "name": "python",
   "nbconvert_exporter": "python",
   "pygments_lexer": "ipython3",
   "version": "3.12.5"
  }
 },
 "nbformat": 4,
 "nbformat_minor": 2
}
