{
 "cells": [
  {
   "cell_type": "markdown",
   "metadata": {},
   "source": [
    "## ask the user for 2 inputs:\n",
    "- source file path\n",
    "- destination file path"
   ]
  },
  {
   "cell_type": "code",
   "execution_count": 1,
   "metadata": {},
   "outputs": [],
   "source": [
    "def get_file(message):\n",
    "    try:\n",
    "        file_path = input(message)\n",
    "        if not file_path.strip():\n",
    "            raise ValueError(\"Filvägen kan inte vara tom. \")\n",
    "        return file_path\n",
    "    except ValueError as ve:\n",
    "        print(ve)\n",
    "        return None"
   ]
  },
  {
   "cell_type": "code",
   "execution_count": 2,
   "metadata": {},
   "outputs": [],
   "source": [
    "source_path = get_file(\"Skriv in din source file här: \")\n",
    "destination_path = get_file(\"Skriv in din destination path här: \")"
   ]
  },
  {
   "cell_type": "code",
   "execution_count": 3,
   "metadata": {},
   "outputs": [
    {
     "name": "stdout",
     "output_type": "stream",
     "text": [
      "source: hejfjs\n",
      "destination: kjfsdk\n"
     ]
    }
   ],
   "source": [
    "if source_path and destination_path:\n",
    "    print(f\"source: {source_path}\")\n",
    "    print(f\"destination: {destination_path}\")"
   ]
  }
 ],
 "metadata": {
  "kernelspec": {
   "display_name": ".venv",
   "language": "python",
   "name": "python3"
  },
  "language_info": {
   "codemirror_mode": {
    "name": "ipython",
    "version": 3
   },
   "file_extension": ".py",
   "mimetype": "text/x-python",
   "name": "python",
   "nbconvert_exporter": "python",
   "pygments_lexer": "ipython3",
   "version": "3.12.5"
  }
 },
 "nbformat": 4,
 "nbformat_minor": 2
}
