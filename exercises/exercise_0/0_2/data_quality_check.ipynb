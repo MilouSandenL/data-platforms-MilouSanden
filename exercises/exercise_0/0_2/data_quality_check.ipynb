{
 "cells": [
  {
   "cell_type": "markdown",
   "metadata": {},
   "source": [
    "## Data quality check\n",
    "- Skapa en funktion som kontrollerar att en lista har exakt 10 element"
   ]
  },
  {
   "cell_type": "code",
   "execution_count": 5,
   "metadata": {},
   "outputs": [
    {
     "name": "stdout",
     "output_type": "stream",
     "text": [
      "Listan är godkänd. Den innehåller exakt 10 element och inga None- värden. \n",
      "Error: Listan får inte innehålla None- värden. \n",
      "Godkänt format på lista: En lista med exakt 10 element och inga None- värden. \n",
      "Error: Listan måste innehålla exakt 10 element. \n",
      "Godkänt format på lista: En lista med exakt 10 element och inga None- värden.\n"
     ]
    }
   ],
   "source": [
    "def quality_check(lst):\n",
    "    if len(lst) != 10:\n",
    "        print(\"Error: Listan måste innehålla exakt 10 element. \")\n",
    "        print(\"Godkänt format på lista: En lista med exakt 10 element och inga None- värden.\")\n",
    "        return\n",
    "    if None in lst:\n",
    "        print(\"Error: Listan får inte innehålla None- värden. \")\n",
    "        print(\"Godkänt format på lista: En lista med exakt 10 element och inga None- värden. \")\n",
    "        return\n",
    "    else:\n",
    "        print(\"Listan är godkänd. Den innehåller exakt 10 element och inga None- värden. \")\n",
    "        \n",
    "valid_lst = [1, 2, 3, 4, 5, 6, 7, 8, 9, 10]\n",
    "quality_check(valid_lst)\n",
    "        \n",
    "not_valid_lst = [1, 2, 3, 4, None, 6, 7, 8, 9, 10]\n",
    "quality_check(not_valid_lst)\n",
    "\n",
    "no_valid_lst = [\"äpple\", \"banan\", \"kiwi\", \"citron\"]\n",
    "quality_check(no_valid_lst)"
   ]
  }
 ],
 "metadata": {
  "kernelspec": {
   "display_name": ".venv",
   "language": "python",
   "name": "python3"
  },
  "language_info": {
   "codemirror_mode": {
    "name": "ipython",
    "version": 3
   },
   "file_extension": ".py",
   "mimetype": "text/x-python",
   "name": "python",
   "nbconvert_exporter": "python",
   "pygments_lexer": "ipython3",
   "version": "3.12.5"
  }
 },
 "nbformat": 4,
 "nbformat_minor": 2
}
