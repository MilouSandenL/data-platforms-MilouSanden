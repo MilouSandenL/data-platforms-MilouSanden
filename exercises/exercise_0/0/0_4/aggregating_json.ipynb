{
 "cells": [
  {
   "cell_type": "markdown",
   "metadata": {},
   "source": [
    "## aggregating json data"
   ]
  },
  {
   "cell_type": "code",
   "execution_count": 1,
   "metadata": {},
   "outputs": [
    {
     "name": "stdout",
     "output_type": "stream",
     "text": [
      "Aggregated data has been written to data/payment_sum.json\n"
     ]
    }
   ],
   "source": [
    "import json\n",
    "from collections import defaultdict\n",
    "# defaultdict är en typ av ordbok som ger ett standardvärde för nycklar som ännu inte finns i dictionaryn, i detta fall sätter vi nycklarnas värde till int (då börjar dom med värdet 0)\n",
    "def aggregate_payments(input_file, output_file):\n",
    "# skapar en funktion som tar två argument - en som läser in vår existerande fil, och en som skapar en fil där resultaten sparas.\n",
    "# öppnar datafilen i läsläge 'r', använder with för att säkerställa att filen stängs automatiskt efter att kodblocket körts.\n",
    "    with open(input_file, 'r') as file:\n",
    "# läser in innehållet i jsonfilen och lagrar den i en variabel med namnet data.\n",
    "        data = json.load(file)\n",
    "# använder defaultdict för att hålla koll på betalningar per namn, försöker man lägga till ett värde till en nyckel som inte finns än så startar den på 0. \n",
    "    payment_summary = defaultdict(int)\n",
    "# loopar igenom varje post i listan data.\n",
    "    for entry in data:\n",
    "# extraherar värderna för nycklarna 'name' och 'amount' från varje post.\n",
    "        name = entry['name']\n",
    "        amount = entry['amount']\n",
    "# lägger till betalningen till rätt namn i variabeln payment_summary. om namnet inte redan finns i payment_summary, så lägger defaultdict till det med startvärdet 0.\n",
    "        payment_summary[name] += amount\n",
    "        \n",
    "    aggregate_data = dict(payment_summary)\n",
    "# öppnar utdatafilen i skrivläge med 'w'- om filen inte redan finns så skapas den.\n",
    "    with open(output_file, 'w') as file:\n",
    "# skriver innehållet av payment_summary till utadatafilen i jsonformat. indent=4 gör så att filen blir mer läsbar genom att formatera med indragningar.\n",
    "        json.dump(aggregate_data, file, indent=4)\n",
    "    \n",
    "    print(f\"Aggregated data has been written to {output_file}\")\n",
    "# anropar funktionen och anger filvägarna för in - och utdata.\n",
    "aggregate_payments('data/paid.json', 'data/payment_sum.json')"
   ]
  }
 ],
 "metadata": {
  "kernelspec": {
   "display_name": ".venv",
   "language": "python",
   "name": "python3"
  },
  "language_info": {
   "codemirror_mode": {
    "name": "ipython",
    "version": 3
   },
   "file_extension": ".py",
   "mimetype": "text/x-python",
   "name": "python",
   "nbconvert_exporter": "python",
   "pygments_lexer": "ipython3",
   "version": "3.12.5"
  }
 },
 "nbformat": 4,
 "nbformat_minor": 2
}
