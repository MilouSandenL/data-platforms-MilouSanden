{
 "cells": [
  {
   "cell_type": "markdown",
   "metadata": {},
   "source": [
    "## Extract data from logs\n",
    "- extract source IP, destination ID, protocol and data size."
   ]
  },
  {
   "cell_type": "code",
   "execution_count": 9,
   "metadata": {},
   "outputs": [
    {
     "name": "stdout",
     "output_type": "stream",
     "text": [
      "Line content: 'Source: 10.0.0.1 | Destination: 10.0.0.2 | Protocol: TCP | Bytes: 1024'\n",
      "Source: 10.0.0.1 | Destination: 10.0.0.2 | Protocol: TCP | Bytes: 1024\n",
      "Line content: 'Source: 10.0.0.2 | Destination: 10.0.0.3 | Protocol: UDP | Bytes: 2048'\n",
      "Source: 10.0.0.2 | Destination: 10.0.0.3 | Protocol: UDP | Bytes: 2048\n",
      "Line content: 'Source: 10.0.0.3 | Destination: 10.0.0.1 | Protocol: TCP | Bytes: 512'\n",
      "Source: 10.0.0.3 | Destination: 10.0.0.1 | Protocol: TCP | Bytes: 512\n",
      "Line content: ''\n",
      "Line content: 'Data Transfer Summary:'\n",
      "Line content: 'TCP: 1536 bytes'\n",
      "Warning: Skipping invalid line: TCP: 1536 bytes\n",
      "Line content: 'UDP: 2048 bytes'\n",
      "Warning: Skipping invalid line: UDP: 2048 bytes\n",
      "\n",
      "Data Transfer Summary: \n",
      "TCP: 1536 bytes\n",
      "UDP: 2048 bytes\n"
     ]
    }
   ],
   "source": [
    "def extract_data(file_path):\n",
    "    data_summary = {\"TCP\": 0, \"UDP\": 0}\n",
    "    \n",
    "    with open(file_path, 'r') as file:\n",
    "        for line in file:\n",
    "            line = line.strip()\n",
    "\n",
    "            print(f\"Line content: '{line}'\") \n",
    "\n",
    "            if not line or line.startswith(\"Data Transfer Summary:\"):\n",
    "                continue\n",
    "            parts = line.split(' | ')\n",
    "            if len(parts) == 4:\n",
    "                try:\n",
    "                    source = parts[0].split(': ')[1]\n",
    "                    destination = parts[1].split(': ')[1]\n",
    "                    protocol = parts[2].split(': ')[1]\n",
    "                    bytes_transfered = int(parts[3].split(': ')[1])\n",
    "                    \n",
    "                    print(f\"Source: {source} | Destination: {destination} | Protocol: {protocol} | Bytes: {bytes_transfered}\")\n",
    "                    \n",
    "                    if protocol in data_summary:\n",
    "                        data_summary[protocol] += bytes_transfered\n",
    "                except IndexError:\n",
    "                    print(f\"Warning: Skipping invalid line: {line}\")\n",
    "            else:\n",
    "                print(f\"Warning: Skipping invalid line: {line}\")\n",
    "\n",
    "    print(\"\\nData Transfer Summary: \")\n",
    "    for proto, total_bytes in data_summary.items():\n",
    "        print(f\"{proto}: {total_bytes} bytes\")\n",
    "\n",
    "extract_data('data/network.log')\n",
    "\n"
   ]
  }
 ],
 "metadata": {
  "kernelspec": {
   "display_name": ".venv",
   "language": "python",
   "name": "python3"
  },
  "language_info": {
   "codemirror_mode": {
    "name": "ipython",
    "version": 3
   },
   "file_extension": ".py",
   "mimetype": "text/x-python",
   "name": "python",
   "nbconvert_exporter": "python",
   "pygments_lexer": "ipython3",
   "version": "3.12.5"
  }
 },
 "nbformat": 4,
 "nbformat_minor": 2
}
