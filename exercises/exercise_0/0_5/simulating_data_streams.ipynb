{
 "cells": [
  {
   "cell_type": "markdown",
   "metadata": {},
   "source": [
    "## Simulating data steams"
   ]
  },
  {
   "cell_type": "code",
   "execution_count": 1,
   "metadata": {},
   "outputs": [
    {
     "name": "stdout",
     "output_type": "stream",
     "text": [
      "Starting data stream processing ...\n",
      "\n",
      "Processed: record1\n",
      "Processed: record2\n",
      "Processed: record3\n",
      "Processed: record4\n",
      "STOP signal encountered. Ending stream processing. \n",
      "\n",
      "Data stream processing completed. Have a nice day!\n"
     ]
    }
   ],
   "source": [
    "# importerar time för att kunna använda time.sleep(1) för att skapa 1 sekunds fördröjning mellan bearbetningarna på varje 'record'.\n",
    "import time\n",
    "\n",
    "# skapar en funktion med argumentet stream för att göra det möjligt att åtrtanvända logiken för att bearbeta olika dataströmmar genom att skicka in en lista som argument.\n",
    "def process_stream(stream):\n",
    "    print(\"Starting data stream processing ...\\n\")\n",
    "    \n",
    " # skriver en for - loop för att gå igenom varje element i stream listan för att bearbeta dom individuellt.   \n",
    "    for record in stream:\n",
    "        \n",
    "# strängen 'stop' fungerar som en signal för att avbryta bearbetningen av dataströmmen.\n",
    "        if record == \"STOP\":\n",
    "            print(\"STOP signal encountered. Ending stream processing. \\n\")\n",
    "            break\n",
    "        \n",
    "        print(f\"Processed: {record}\")\n",
    "        time.sleep(1)\n",
    "    \n",
    "    print(\"Data stream processing completed. Have a nice day!\")\n",
    "    \n",
    "simualated_stream = [\"record1\", \"record2\", \"record3\", \"record4\", \"STOP\", \"record5\"]\n",
    "\n",
    "process_stream(simualated_stream)"
   ]
  }
 ],
 "metadata": {
  "kernelspec": {
   "display_name": ".venv",
   "language": "python",
   "name": "python3"
  },
  "language_info": {
   "codemirror_mode": {
    "name": "ipython",
    "version": 3
   },
   "file_extension": ".py",
   "mimetype": "text/x-python",
   "name": "python",
   "nbconvert_exporter": "python",
   "pygments_lexer": "ipython3",
   "version": "3.12.5"
  }
 },
 "nbformat": 4,
 "nbformat_minor": 2
}
