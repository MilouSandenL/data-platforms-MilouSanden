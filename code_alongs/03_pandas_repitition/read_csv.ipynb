{
 "cells": [
  {
   "cell_type": "markdown",
   "metadata": {},
   "source": [
    "## Code along - read from excel"
   ]
  },
  {
   "cell_type": "code",
   "execution_count": null,
   "metadata": {},
   "outputs": [],
   "source": [
    "import pandas as pd\n",
    "\n",
    "df = pd.read(\"data/calories.csv\")\n",
    "df.head() "
   ]
  },
  {
   "cell_type": "code",
   "execution_count": null,
   "metadata": {},
   "outputs": [],
   "source": [
    "df.info()"
   ]
  },
  {
   "cell_type": "code",
   "execution_count": null,
   "metadata": {},
   "outputs": [],
   "source": [
    "df.describe()"
   ]
  },
  {
   "cell_type": "code",
   "execution_count": null,
   "metadata": {},
   "outputs": [],
   "source": [
    "df.columns"
   ]
  },
  {
   "cell_type": "code",
   "execution_count": null,
   "metadata": {},
   "outputs": [],
   "source": [
    "df[\"FoodCategory\"].unique() # för att se alla unika kategorier"
   ]
  },
  {
   "cell_type": "code",
   "execution_count": null,
   "metadata": {},
   "outputs": [],
   "source": [
    "df[\"FoodCategory\"].value_counts() # för att räkna hur många values det finns i kategorierna"
   ]
  },
  {
   "cell_type": "code",
   "execution_count": null,
   "metadata": {},
   "outputs": [],
   "source": [
    "df[\"per100grams\"].value_counts() "
   ]
  },
  {
   "cell_type": "markdown",
   "metadata": {},
   "source": [
    "## Data cleaning"
   ]
  },
  {
   "cell_type": "code",
   "execution_count": null,
   "metadata": {},
   "outputs": [],
   "source": [
    "df.columns()"
   ]
  },
  {
   "cell_type": "code",
   "execution_count": null,
   "metadata": {},
   "outputs": [],
   "source": [
    "# för att ädra nman så lägga in en dictionary med gamla namnet som en nyckel, och nya namnet som value\n",
    "# axis =1 (axis=columns) används för att den kommer börja från kolumn 1, och ist för index 0\n",
    "df_cleaned_names = df.rename(\n",
    "    {\"Cals_per100grams\":\"Calories\", \"KJ_per100grams\": \"KJ\", \"Per100grams\": \"per100\"},\n",
    "    axis=1,\n",
    ")\n",
    "\n",
    "df_cleaned_names.head()"
   ]
  },
  {
   "cell_type": "code",
   "execution_count": null,
   "metadata": {},
   "outputs": [],
   "source": [
    "# använder .str för att arbeta med strängar, så vi kan ta bort strängarna\n",
    "df_cleaned_names[\"calories\"] = df_cleaned_names[\"calories\"].str[:-3].astype(int)\n",
    "df_cleaned_names.head()"
   ]
  },
  {
   "cell_type": "code",
   "execution_count": null,
   "metadata": {},
   "outputs": [],
   "source": [
    "# för att få info om hur filen ser uut nu\n",
    "df_cleaned_names.info()"
   ]
  },
  {
   "cell_type": "code",
   "execution_count": null,
   "metadata": {},
   "outputs": [],
   "source": [
    "\n",
    "df_cleaned_names[\"per100\"].value_counts()"
   ]
  },
  {
   "cell_type": "code",
   "execution_count": null,
   "metadata": {},
   "outputs": [],
   "source": [
    "# splitta på liquids och solids\n",
    "# gör en booleans mask - som innehåller massa True & False (kan använda den för att filtrera)\n",
    "df_cleaned_names[\"per100\"] == \"100ml\""
   ]
  },
  {
   "cell_type": "code",
   "execution_count": null,
   "metadata": {},
   "outputs": [],
   "source": [
    "# får ut alla som är True = alla liquids. 423 st.\n",
    "df_liquids = df_cleaned_names[df_cleaned_names[\"per100\"] == \"100ml\"]\n",
    "df_liquids.head()"
   ]
  },
  {
   "cell_type": "code",
   "execution_count": null,
   "metadata": {},
   "outputs": [],
   "source": [
    "# motsvarande- men strängar. lägger in column och vad den ska vara lika med (100g)\n",
    "# fungerar bra vid större dataset.\n",
    "df_solids = df_cleaned_names.query(\"per100 == '100g'\")\n",
    "df_solids.head()"
   ]
  },
  {
   "cell_type": "markdown",
   "metadata": {},
   "source": [
    "## Fint top 5 categories of highest calories"
   ]
  },
  {
   "cell_type": "code",
   "execution_count": null,
   "metadata": {},
   "outputs": [],
   "source": [
    "# .sort_values är motsvarande order by. kommer automatiskt i ascending order.\n",
    "df_solids_sorted = df_solids.sort_values(by = \"calories\", ascending = False)\n",
    "# .iloc[:5] får dom 5 första (alltså de största)\n",
    "df_solids_top5 = df_solids_sorted.iloc[:5]\n",
    "df_solids_top5.head()"
   ]
  },
  {
   "cell_type": "code",
   "execution_count": null,
   "metadata": {},
   "outputs": [],
   "source": [
    "df_liquids_top5 = df_liquids.sort_values(by= \"calories\", ascending = False).head()\n",
    "df_liquids_top5"
   ]
  },
  {
   "cell_type": "code",
   "execution_count": null,
   "metadata": {},
   "outputs": [],
   "source": [
    "# gruppera \n",
    "df_top5_categories = df_cleaned_names.groupby(\"FoodCategory\")[\"calories\"].median().sort_values(ascending = False).reset_index().head()\n",
    "\n",
    "df_top5_categories"
   ]
  },
  {
   "cell_type": "code",
   "execution_count": 7,
   "metadata": {},
   "outputs": [],
   "source": [
    "query = \"\"\" SELECT\n",
    "                FoodCategory,\n",
    "                MEDIAN(calories) AS median_calories\n",
    "            FROM \n",
    "                df_cleaned_names\n",
    "            GROUP BY\n",
    "                FoodCategory\n",
    "            ORDER BY\n",
    "                median_calories\n",
    "            DESC\n",
    "            LIMIT \n",
    "                5\n",
    "            \n",
    "\"\"\""
   ]
  },
  {
   "cell_type": "code",
   "execution_count": null,
   "metadata": {},
   "outputs": [],
   "source": [
    "import duckdb\n",
    "\n",
    "duckdb.query(query)"
   ]
  },
  {
   "cell_type": "code",
   "execution_count": null,
   "metadata": {},
   "outputs": [],
   "source": [
    "top5_category = duckdb.query(query).df()\n",
    "top5_category"
   ]
  }
 ],
 "metadata": {
  "kernelspec": {
   "display_name": ".venv",
   "language": "python",
   "name": "python3"
  },
  "language_info": {
   "codemirror_mode": {
    "name": "ipython",
    "version": 3
   },
   "file_extension": ".py",
   "mimetype": "text/x-python",
   "name": "python",
   "nbconvert_exporter": "python",
   "pygments_lexer": "ipython3",
   "version": "3.12.5"
  }
 },
 "nbformat": 4,
 "nbformat_minor": 2
}
