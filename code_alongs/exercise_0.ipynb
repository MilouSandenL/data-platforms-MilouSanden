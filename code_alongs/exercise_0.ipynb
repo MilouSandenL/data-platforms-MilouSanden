{
 "cells": [
  {
   "cell_type": "markdown",
   "metadata": {},
   "source": [
    "# Solving exercises"
   ]
  },
  {
   "cell_type": "markdown",
   "metadata": {},
   "source": [
    "## 0. user input for ETL parameters"
   ]
  },
  {
   "cell_type": "code",
   "execution_count": 1,
   "metadata": {},
   "outputs": [
    {
     "name": "stdout",
     "output_type": "stream",
     "text": [
      "Source: \n",
      "Destination: /c/Users/milou/Documents/Git/data-platforms-MilouSanden/code_alongs/input_data.csv\n"
     ]
    }
   ],
   "source": [
    "source_path = input(\"Enter the source path\")\n",
    "destination_path = input(\"Enter yout destination path\")\n",
    "\n",
    "# /c/Users/milou/Documents/Git/data-platforms-MilouSanden/code_alongs/input_data.csv\n",
    "# /c/Users/milou/Documents/Git/data-platforms-MilouSanden/code_alongs/output_data.csv\n",
    "\n",
    "print(f\"Source: {source_path}\")\n",
    "print(f\"Destination: {destination_path}\")\n",
    "\n",
    "\n"
   ]
  }
 ],
 "metadata": {
  "kernelspec": {
   "display_name": ".venv",
   "language": "python",
   "name": "python3"
  },
  "language_info": {
   "codemirror_mode": {
    "name": "ipython",
    "version": 3
   },
   "file_extension": ".py",
   "mimetype": "text/x-python",
   "name": "python",
   "nbconvert_exporter": "python",
   "pygments_lexer": "ipython3",
   "version": "3.12.5"
  }
 },
 "nbformat": 4,
 "nbformat_minor": 2
}
