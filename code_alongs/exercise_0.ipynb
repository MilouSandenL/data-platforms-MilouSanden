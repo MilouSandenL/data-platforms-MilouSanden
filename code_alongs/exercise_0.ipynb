{
 "cells": [
  {
   "cell_type": "markdown",
   "metadata": {},
   "source": [
    "# Solving exercises"
   ]
  },
  {
   "cell_type": "markdown",
   "metadata": {},
   "source": [
    "## 0. user input for ETL parameters"
   ]
  },
  {
   "cell_type": "code",
   "execution_count": 1,
   "metadata": {},
   "outputs": [
    {
     "name": "stdout",
     "output_type": "stream",
     "text": [
      "Source: \n",
      "Destination: /c/Users/milou/Documents/Git/data-platforms-MilouSanden/code_alongs/input_data.csv\n"
     ]
    }
   ],
   "source": [
    "source_path = input(\"Enter the source path\")\n",
    "destination_path = input(\"Enter yout destination path\")\n",
    "\n",
    "# /c/Users/milou/Documents/Git/data-platforms-MilouSanden/code_alongs/input_data.csv\n",
    "# /c/Users/milou/Documents/Git/data-platforms-MilouSanden/code_alongs/output_data.csv\n",
    "\n",
    "print(f\"Source: {source_path}\")\n",
    "print(f\"Destination: {destination_path}\")\n",
    "\n",
    "\n"
   ]
  },
  {
   "cell_type": "markdown",
   "metadata": {},
   "source": [
    "## 1. schema validation\n",
    "| Key       | Value |\n",
    "| --------- | ----- |\n",
    "| id        | 101   |\n",
    "| name      | Erika |\n",
    "| is_active | True  |\n",
    "| age       | 45    |"
   ]
  },
  {
   "cell_type": "markdown",
   "metadata": {},
   "source": [
    "**a)**\n",
    "- Create a dictionary that look like this"
   ]
  },
  {
   "cell_type": "code",
   "execution_count": 4,
   "metadata": {},
   "outputs": [
    {
     "data": {
      "text/plain": [
       "({'id': 101, 'name': 'Erika', 'is_active': True, 'age': 45}, dict)"
      ]
     },
     "execution_count": 4,
     "metadata": {},
     "output_type": "execute_result"
    }
   ],
   "source": [
    "# schema kan även va att databaser kan ha kolumner med olika datatyper\n",
    "\n",
    "record = dict(id = 101, name = \"Erika\", is_active = True, age = 45)\n",
    "record, type(record)\n"
   ]
  },
  {
   "cell_type": "markdown",
   "metadata": {},
   "source": [
    "**b)**\n",
    "-  Validate that the id is integer, name is string, is_active is boolean and age is integer. It should return true if valid and false if not valid."
   ]
  },
  {
   "cell_type": "code",
   "execution_count": 6,
   "metadata": {},
   "outputs": [
    {
     "data": {
      "text/plain": [
       "dict_keys(['id', 'name', 'is_active', 'age'])"
      ]
     },
     "execution_count": 6,
     "metadata": {},
     "output_type": "execute_result"
    }
   ],
   "source": [
    "schema = {\"id\": int, \"name\": str, \"is_active\": bool, \"age\": int}\n",
    "schema.keys()"
   ]
  },
  {
   "cell_type": "code",
   "execution_count": 7,
   "metadata": {},
   "outputs": [
    {
     "data": {
      "text/plain": [
       "(101, int, True, bool)"
      ]
     },
     "execution_count": 7,
     "metadata": {},
     "output_type": "execute_result"
    }
   ],
   "source": [
    "\n",
    "record[\"id\"], schema[\"id\"], record[\"is_active\"], schema[\"is_active\"]"
   ]
  },
  {
   "cell_type": "code",
   "execution_count": 10,
   "metadata": {},
   "outputs": [
    {
     "data": {
      "text/plain": [
       "(True, False)"
      ]
     },
     "execution_count": 10,
     "metadata": {},
     "output_type": "execute_result"
    }
   ],
   "source": [
    "# för att typchecka\n",
    "type(record[\"id\"]) == schema[\"id\"], type(record[\"id\"]) == schema[\"is_active\"]"
   ]
  },
  {
   "cell_type": "code",
   "execution_count": 12,
   "metadata": {},
   "outputs": [
    {
     "data": {
      "text/plain": [
       "(True, False)"
      ]
     },
     "execution_count": 12,
     "metadata": {},
     "output_type": "execute_result"
    }
   ],
   "source": [
    "# för att typchecka\n",
    "isinstance(5, int), isinstance(5, str)"
   ]
  },
  {
   "cell_type": "code",
   "execution_count": 13,
   "metadata": {},
   "outputs": [
    {
     "data": {
      "text/plain": [
       "['id', 'name', 'is_active', 'age']"
      ]
     },
     "execution_count": 13,
     "metadata": {},
     "output_type": "execute_result"
    }
   ],
   "source": [
    "[key for key in schema]"
   ]
  },
  {
   "cell_type": "code",
   "execution_count": 23,
   "metadata": {},
   "outputs": [
    {
     "data": {
      "text/plain": [
       "True"
      ]
     },
     "execution_count": 23,
     "metadata": {},
     "output_type": "execute_result"
    }
   ],
   "source": [
    "validation_list = []\n",
    "for key, data_type in schema.items():\n",
    "    # print(record[key], data_type)\n",
    "    \n",
    "    validation_list.append(isinstance(record[key], data_type))\n",
    "    \n",
    "all(validation_list)"
   ]
  },
  {
   "cell_type": "code",
   "execution_count": 25,
   "metadata": {},
   "outputs": [
    {
     "data": {
      "text/plain": [
       "(False, True)"
      ]
     },
     "execution_count": 25,
     "metadata": {},
     "output_type": "execute_result"
    }
   ],
   "source": [
    "# all ger falskt ifall något är false, any ger true om något är true\n",
    "all([True, False]), any([True, False])"
   ]
  },
  {
   "cell_type": "markdown",
   "metadata": {},
   "source": [
    "**alternative with list comprehension**"
   ]
  },
  {
   "cell_type": "code",
   "execution_count": 28,
   "metadata": {},
   "outputs": [
    {
     "data": {
      "text/plain": [
       "True"
      ]
     },
     "execution_count": 28,
     "metadata": {},
     "output_type": "execute_result"
    }
   ],
   "source": [
    "all([isinstance(record[key], data_type) for key, data_type in schema.items()])"
   ]
  },
  {
   "cell_type": "markdown",
   "metadata": {},
   "source": [
    "## 2. data quality check"
   ]
  },
  {
   "cell_type": "code",
   "execution_count": null,
   "metadata": {},
   "outputs": [],
   "source": [
    "example_list = list(range(10))\n",
    "example_list_none = list(range(9)) + [None]\n",
    "example_list_large = list(range(2910))\n",
    "example_list"
   ]
  },
  {
   "cell_type": "code",
   "execution_count": null,
   "metadata": {},
   "outputs": [],
   "source": [
    "example_list_none"
   ]
  },
  {
   "cell_type": "code",
   "execution_count": 33,
   "metadata": {},
   "outputs": [
    {
     "data": {
      "text/plain": [
       "True"
      ]
     },
     "execution_count": 33,
     "metadata": {},
     "output_type": "execute_result"
    }
   ],
   "source": [
    "len(example_list) == 10"
   ]
  },
  {
   "cell_type": "code",
   "execution_count": null,
   "metadata": {},
   "outputs": [],
   "source": [
    "None in example_list, None in example_list_none"
   ]
  },
  {
   "cell_type": "code",
   "execution_count": null,
   "metadata": {},
   "outputs": [],
   "source": [
    "# copying code - dont repeat ypurself\n",
    "if len(example_list) == 10 and None not in example_list:\n",
    "    print(\"Woho\")\n",
    "    \n",
    "if len(example_list_none) == 10 and None not in example_list_none:\n",
    "    print(\"Woho\")\n",
    "    \n",
    "if len(example_list_large) == 10 and None not in example_list_large:\n",
    "    print(\"Woho\")"
   ]
  },
  {
   "cell_type": "code",
   "execution_count": null,
   "metadata": {},
   "outputs": [],
   "source": [
    "def quality_check(list_):\n",
    "    if len(example_list) != 10 or None in example_list:\n",
    "        raise ValueError(f\"\"\"\n",
    "                         Your list must have 10 elements and not contain None\n",
    "                         Lenght of your list was {len(list_)}. None in list: {None in list_}\n",
    "                         \"\"\")\n",
    "    print(\"Your list contains no Nones and has the lenght of 10\")\n",
    "try:\n",
    "    quality_check(example_list_none)\n",
    "except ValueError as err:\n",
    "    print(err)"
   ]
  },
  {
   "cell_type": "code",
   "execution_count": 45,
   "metadata": {},
   "outputs": [],
   "source": [
    "quality_check(example_list)"
   ]
  }
 ],
 "metadata": {
  "kernelspec": {
   "display_name": ".venv",
   "language": "python",
   "name": "python3"
  },
  "language_info": {
   "codemirror_mode": {
    "name": "ipython",
    "version": 3
   },
   "file_extension": ".py",
   "mimetype": "text/x-python",
   "name": "python",
   "nbconvert_exporter": "python",
   "pygments_lexer": "ipython3",
   "version": "3.12.5"
  }
 },
 "nbformat": 4,
 "nbformat_minor": 2
}
